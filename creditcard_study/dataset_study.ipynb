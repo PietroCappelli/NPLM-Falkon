{
 "cells": [
  {
   "cell_type": "markdown",
   "metadata": {},
   "source": [
    "# CREDIT CARD KAAGLE DATASET"
   ]
  },
  {
   "cell_type": "code",
   "execution_count": 79,
   "metadata": {},
   "outputs": [],
   "source": [
    "import os\n",
    "import sys\n",
    "import csv\n",
    "import time\n",
    "import numpy as np\n",
    "import pandas as pd\n",
    "import matplotlib.pyplot as plt\n",
    "from datetime import datetime\n",
    "from scipy.stats import chi2\n",
    "from sklearn.metrics.pairwise import pairwise_distances\n",
    "\n",
    "import torch\n",
    "import falkon\n",
    "\n",
    "sys.path.insert(0, \"../notebooks\")\n",
    "from plot_utils import plot_one_t\n"
   ]
  },
  {
   "cell_type": "code",
   "execution_count": 2,
   "metadata": {},
   "outputs": [
    {
     "data": {
      "text/html": [
       "<div>\n",
       "<style scoped>\n",
       "    .dataframe tbody tr th:only-of-type {\n",
       "        vertical-align: middle;\n",
       "    }\n",
       "\n",
       "    .dataframe tbody tr th {\n",
       "        vertical-align: top;\n",
       "    }\n",
       "\n",
       "    .dataframe thead th {\n",
       "        text-align: right;\n",
       "    }\n",
       "</style>\n",
       "<table border=\"1\" class=\"dataframe\">\n",
       "  <thead>\n",
       "    <tr style=\"text-align: right;\">\n",
       "      <th></th>\n",
       "      <th>Time</th>\n",
       "      <th>V1</th>\n",
       "      <th>V2</th>\n",
       "      <th>V3</th>\n",
       "      <th>V4</th>\n",
       "      <th>V5</th>\n",
       "      <th>V6</th>\n",
       "      <th>V7</th>\n",
       "      <th>V8</th>\n",
       "      <th>V9</th>\n",
       "      <th>...</th>\n",
       "      <th>V21</th>\n",
       "      <th>V22</th>\n",
       "      <th>V23</th>\n",
       "      <th>V24</th>\n",
       "      <th>V25</th>\n",
       "      <th>V26</th>\n",
       "      <th>V27</th>\n",
       "      <th>V28</th>\n",
       "      <th>Amount</th>\n",
       "      <th>Class</th>\n",
       "    </tr>\n",
       "  </thead>\n",
       "  <tbody>\n",
       "    <tr>\n",
       "      <th>0</th>\n",
       "      <td>-1.996580</td>\n",
       "      <td>-1.359807</td>\n",
       "      <td>-0.072781</td>\n",
       "      <td>2.536347</td>\n",
       "      <td>1.378155</td>\n",
       "      <td>-0.338321</td>\n",
       "      <td>0.462388</td>\n",
       "      <td>0.239599</td>\n",
       "      <td>0.098698</td>\n",
       "      <td>0.363787</td>\n",
       "      <td>...</td>\n",
       "      <td>-0.018307</td>\n",
       "      <td>0.277838</td>\n",
       "      <td>-0.110474</td>\n",
       "      <td>0.066928</td>\n",
       "      <td>0.128539</td>\n",
       "      <td>-0.189115</td>\n",
       "      <td>0.133558</td>\n",
       "      <td>-0.021053</td>\n",
       "      <td>0.244964</td>\n",
       "      <td>0</td>\n",
       "    </tr>\n",
       "    <tr>\n",
       "      <th>1</th>\n",
       "      <td>-1.996580</td>\n",
       "      <td>1.191857</td>\n",
       "      <td>0.266151</td>\n",
       "      <td>0.166480</td>\n",
       "      <td>0.448154</td>\n",
       "      <td>0.060018</td>\n",
       "      <td>-0.082361</td>\n",
       "      <td>-0.078803</td>\n",
       "      <td>0.085102</td>\n",
       "      <td>-0.255425</td>\n",
       "      <td>...</td>\n",
       "      <td>-0.225775</td>\n",
       "      <td>-0.638672</td>\n",
       "      <td>0.101288</td>\n",
       "      <td>-0.339846</td>\n",
       "      <td>0.167170</td>\n",
       "      <td>0.125895</td>\n",
       "      <td>-0.008983</td>\n",
       "      <td>0.014724</td>\n",
       "      <td>-0.342474</td>\n",
       "      <td>0</td>\n",
       "    </tr>\n",
       "    <tr>\n",
       "      <th>2</th>\n",
       "      <td>-1.996558</td>\n",
       "      <td>-1.358354</td>\n",
       "      <td>-1.340163</td>\n",
       "      <td>1.773209</td>\n",
       "      <td>0.379780</td>\n",
       "      <td>-0.503198</td>\n",
       "      <td>1.800499</td>\n",
       "      <td>0.791461</td>\n",
       "      <td>0.247676</td>\n",
       "      <td>-1.514654</td>\n",
       "      <td>...</td>\n",
       "      <td>0.247998</td>\n",
       "      <td>0.771679</td>\n",
       "      <td>0.909412</td>\n",
       "      <td>-0.689281</td>\n",
       "      <td>-0.327642</td>\n",
       "      <td>-0.139097</td>\n",
       "      <td>-0.055353</td>\n",
       "      <td>-0.059752</td>\n",
       "      <td>1.160684</td>\n",
       "      <td>0</td>\n",
       "    </tr>\n",
       "    <tr>\n",
       "      <th>3</th>\n",
       "      <td>-1.996558</td>\n",
       "      <td>-0.966272</td>\n",
       "      <td>-0.185226</td>\n",
       "      <td>1.792993</td>\n",
       "      <td>-0.863291</td>\n",
       "      <td>-0.010309</td>\n",
       "      <td>1.247203</td>\n",
       "      <td>0.237609</td>\n",
       "      <td>0.377436</td>\n",
       "      <td>-1.387024</td>\n",
       "      <td>...</td>\n",
       "      <td>-0.108300</td>\n",
       "      <td>0.005274</td>\n",
       "      <td>-0.190321</td>\n",
       "      <td>-1.175575</td>\n",
       "      <td>0.647376</td>\n",
       "      <td>-0.221929</td>\n",
       "      <td>0.062723</td>\n",
       "      <td>0.061458</td>\n",
       "      <td>0.140534</td>\n",
       "      <td>0</td>\n",
       "    </tr>\n",
       "    <tr>\n",
       "      <th>4</th>\n",
       "      <td>-1.996537</td>\n",
       "      <td>-1.158233</td>\n",
       "      <td>0.877737</td>\n",
       "      <td>1.548718</td>\n",
       "      <td>0.403034</td>\n",
       "      <td>-0.407193</td>\n",
       "      <td>0.095921</td>\n",
       "      <td>0.592941</td>\n",
       "      <td>-0.270533</td>\n",
       "      <td>0.817739</td>\n",
       "      <td>...</td>\n",
       "      <td>-0.009431</td>\n",
       "      <td>0.798278</td>\n",
       "      <td>-0.137458</td>\n",
       "      <td>0.141267</td>\n",
       "      <td>-0.206010</td>\n",
       "      <td>0.502292</td>\n",
       "      <td>0.219422</td>\n",
       "      <td>0.215153</td>\n",
       "      <td>-0.073403</td>\n",
       "      <td>0</td>\n",
       "    </tr>\n",
       "  </tbody>\n",
       "</table>\n",
       "<p>5 rows × 31 columns</p>\n",
       "</div>"
      ],
      "text/plain": [
       "       Time        V1        V2        V3        V4        V5        V6  \\\n",
       "0 -1.996580 -1.359807 -0.072781  2.536347  1.378155 -0.338321  0.462388   \n",
       "1 -1.996580  1.191857  0.266151  0.166480  0.448154  0.060018 -0.082361   \n",
       "2 -1.996558 -1.358354 -1.340163  1.773209  0.379780 -0.503198  1.800499   \n",
       "3 -1.996558 -0.966272 -0.185226  1.792993 -0.863291 -0.010309  1.247203   \n",
       "4 -1.996537 -1.158233  0.877737  1.548718  0.403034 -0.407193  0.095921   \n",
       "\n",
       "         V7        V8        V9  ...       V21       V22       V23       V24  \\\n",
       "0  0.239599  0.098698  0.363787  ... -0.018307  0.277838 -0.110474  0.066928   \n",
       "1 -0.078803  0.085102 -0.255425  ... -0.225775 -0.638672  0.101288 -0.339846   \n",
       "2  0.791461  0.247676 -1.514654  ...  0.247998  0.771679  0.909412 -0.689281   \n",
       "3  0.237609  0.377436 -1.387024  ... -0.108300  0.005274 -0.190321 -1.175575   \n",
       "4  0.592941 -0.270533  0.817739  ... -0.009431  0.798278 -0.137458  0.141267   \n",
       "\n",
       "        V25       V26       V27       V28    Amount  Class  \n",
       "0  0.128539 -0.189115  0.133558 -0.021053  0.244964      0  \n",
       "1  0.167170  0.125895 -0.008983  0.014724 -0.342474      0  \n",
       "2 -0.327642 -0.139097 -0.055353 -0.059752  1.160684      0  \n",
       "3  0.647376 -0.221929  0.062723  0.061458  0.140534      0  \n",
       "4 -0.206010  0.502292  0.219422  0.215153 -0.073403      0  \n",
       "\n",
       "[5 rows x 31 columns]"
      ]
     },
     "execution_count": 2,
     "metadata": {},
     "output_type": "execute_result"
    }
   ],
   "source": [
    "DATA_PATH = '../data/creditcard.csv'\n",
    "df = pd.read_csv(DATA_PATH)\n",
    "\n",
    "#normalize Time and Amount features\n",
    "df['Time']   = (df['Time'] - df['Time'].mean()) / df['Time'].std()\n",
    "df['Amount'] = (df['Amount'] - df['Amount'].mean()) / df['Amount'].std()\n",
    "\n",
    "df_ref  = df[df['Class']==0]\n",
    "df_data = df[df['Class']==1]\n",
    "\n",
    "N_REF_TOT  = len(df_ref)\n",
    "N_DATA_TOT = len(df_data)\n",
    "\n",
    "df.head()"
   ]
  },
  {
   "cell_type": "code",
   "execution_count": 32,
   "metadata": {},
   "outputs": [
    {
     "name": "stdout",
     "output_type": "stream",
     "text": [
      "total number of transaction (data size): 284807\n",
      "total number of reference transaction: 284315\n",
      "total number of anomalous transaction: 492, \n",
      "(ratio: 0.173)%\n"
     ]
    }
   ],
   "source": [
    "print(f'total number of transaction (data size): {N_REF_TOT+N_DATA_TOT}')\n",
    "print(f'total number of reference transaction: {N_REF_TOT}')\n",
    "print(f'total number of anomalous transaction: {N_DATA_TOT}, \\n(ratio: {(N_DATA_TOT/N_REF_TOT)*100:.3f})%')"
   ]
  },
  {
   "cell_type": "markdown",
   "metadata": {},
   "source": [
    "### separate the features with the target"
   ]
  },
  {
   "cell_type": "code",
   "execution_count": 45,
   "metadata": {},
   "outputs": [
    {
     "name": "stdout",
     "output_type": "stream",
     "text": [
      "feature reference shape: (284315, 30)\n",
      "feature data shape:\t (492, 30)\n"
     ]
    }
   ],
   "source": [
    "Ref  = df_ref[df_ref.columns[:-1]].to_numpy()\n",
    "Data = df_data[df_data.columns[:-1]].to_numpy()\n",
    "\n",
    "Target_Ref  = df_ref['Class'].to_numpy()\n",
    "Target_Data = df_data['Class'].to_numpy()\n",
    "\n",
    "print('feature reference shape:',Ref.shape)\n",
    "print('feature data shape:\\t',Data.shape)\n"
   ]
  },
  {
   "cell_type": "code",
   "execution_count": null,
   "metadata": {},
   "outputs": [],
   "source": []
  },
  {
   "cell_type": "markdown",
   "metadata": {},
   "source": [
    "### euclidean pair-wise distance"
   ]
  },
  {
   "cell_type": "code",
   "execution_count": 30,
   "metadata": {},
   "outputs": [
    {
     "data": {
      "image/png": "[encoded data removed]",
      "text/plain": [
       "<Figure size 800x800 with 1 Axes>"
      ]
     },
     "metadata": {},
     "output_type": "display_data"
    },
    {
     "name": "stdout",
     "output_type": "stream",
     "text": [
      "9.29291747901167\n",
      "6.2929351001243905\n"
     ]
    }
   ],
   "source": [
    "subset = Ref[:50_000]\n",
    "\n",
    "distances = pairwise_distances(subset, metric='euclidean')\n",
    "plt.figure(figsize=(8,8))\n",
    "plt.hist(distances.ravel(), bins=100, density=True)\n",
    "plt.yscale('log')\n",
    "plt.show()\n",
    "\n",
    "quantile = np.quantile(distances, 0.90)\n",
    "print(quantile)\n",
    "print(np.median(distances))\n",
    "del distances"
   ]
  },
  {
   "cell_type": "markdown",
   "metadata": {},
   "source": [
    "## Define a model"
   ]
  },
  {
   "cell_type": "code",
   "execution_count": 72,
   "metadata": {},
   "outputs": [
    {
     "name": "stdout",
     "output_type": "stream",
     "text": [
      "feature shape: torch.Size([11000, 30])\n",
      "feature shape: torch.Size([11000, 1])\n"
     ]
    }
   ],
   "source": [
    "# Statistics\n",
    "N_REF      = 10_000\n",
    "N_BKG      = 1_000\n",
    "N_SIG      = 0  \n",
    "# Samples weights N_D/N_R\n",
    "N_R        = N_REF\n",
    "N_D        = N_BKG\n",
    "\n",
    "# select a random chosen subset of the dataset\n",
    "idx_ref = np.random.choice(Ref.shape[0], N_REF+N_BKG, replace=False)\n",
    "idx_sig = np.random.choice(Data.shape[0], N_SIG, replace=False)\n",
    "\n",
    "feature_ref  = torch.from_numpy(Ref[idx_ref[:N_REF], :])\n",
    "feature_bkg  = torch.from_numpy(Ref[idx_ref[N_REF:], :])\n",
    "feature_sig  = torch.from_numpy(Data[idx_sig, :])\n",
    "feature_data = torch.cat((feature_bkg, feature_sig), dim=0)\n",
    "\n",
    "target_ref  = torch.zeros((N_REF, 1), dtype=torch.float64)\n",
    "target_data = torch.ones((N_BKG + N_SIG, 1), dtype=torch.float64)\n",
    "\n",
    "feature = torch.cat((feature_ref, feature_data), axis=0)\n",
    "target  = torch.cat((target_ref, target_data), axis=0)\n",
    "\n",
    "print('feature shape:', feature.shape)\n",
    "print('feature shape:', target.shape)\n"
   ]
  },
  {
   "cell_type": "code",
   "execution_count": 36,
   "metadata": {},
   "outputs": [],
   "source": [
    "sigma = quantile\n",
    "\n",
    "logflk_opt = falkon.FalkonOptions(cg_tolerance=np.sqrt(1e-7), keops_active='no', use_cpu=False, debug = False)\n",
    "logflk_kernel = falkon.kernels.GaussianKernel(sigma=sigma,  opt=logflk_opt)\n",
    "logloss = falkon.gsc_losses.WeightedCrossEntropyLoss(logflk_kernel, neg_weight = N_D/N_R)\n",
    "\n",
    "config = {\n",
    "    \"kernel\"       : logflk_kernel,\n",
    "    \"M\"            : 2000,\n",
    "    \"penalty_list\" : [1e-8],\n",
    "    \"iter_list\"    : [10_000],\n",
    "    \"options\"      : logflk_opt,\n",
    "    \"seed\"         : None,\n",
    "    \"loss\"         : logloss,\n",
    "}\n",
    "\n",
    "logflk = falkon.LogisticFalkon(**config)"
   ]
  },
  {
   "cell_type": "code",
   "execution_count": 73,
   "metadata": {},
   "outputs": [
    {
     "name": "stdout",
     "output_type": "stream",
     "text": [
      "Iteration 0 - penalty 1.000000e-08 - sub-iterations 10000\n",
      "1347.2571494343379\n"
     ]
    }
   ],
   "source": [
    "logflk.fit(feature, target)\n",
    "ref_pred, data_pred = logflk.predict((feature_ref)), logflk.predict(feature_data)\n",
    "diff = N_D/N_R *torch.sum(1 - torch.exp(ref_pred))\n",
    "t = 2 * (diff + torch.sum(data_pred).item()).item()\n",
    "print(t)"
   ]
  },
  {
   "cell_type": "markdown",
   "metadata": {},
   "source": [
    "## Learn_t function"
   ]
  },
  {
   "cell_type": "code",
   "execution_count": 95,
   "metadata": {},
   "outputs": [],
   "source": [
    "def learn_t(sigma, M, l):\n",
    "    \n",
    "    '''GENERATE DATASET'''\n",
    "    # Statistics\n",
    "    N_REF      = 10_000\n",
    "    N_BKG      = 1_000\n",
    "    N_SIG      = 0  \n",
    "    # Samples weights N_D/N_R\n",
    "    N_R        = N_REF\n",
    "    N_D        = N_BKG\n",
    "\n",
    "    # np.random.seed(time.time())\n",
    "\n",
    "    # select a random chosen subset of the dataset\n",
    "    idx_ref = np.random.choice(Ref.shape[0], N_REF+N_BKG, replace=False)\n",
    "    idx_sig = np.random.choice(Data.shape[0], N_SIG, replace=False)\n",
    "\n",
    "    feature_ref  = torch.from_numpy(Ref[idx_ref[:N_REF], :])\n",
    "    feature_bkg  = torch.from_numpy(Ref[idx_ref[N_REF:], :])\n",
    "    feature_sig  = torch.from_numpy(Data[idx_sig, :])\n",
    "    feature_data = torch.cat((feature_bkg, feature_sig), dim=0)\n",
    "\n",
    "    target_ref  = torch.zeros((N_REF, 1), dtype=torch.float64)\n",
    "    target_data = torch.ones((N_BKG + N_SIG, 1), dtype=torch.float64)\n",
    "\n",
    "    feature = torch.cat((feature_ref, feature_data), axis=0)\n",
    "    target  = torch.cat((target_ref, target_data), axis=0)\n",
    "\n",
    "    # print('feature shape:', feature.shape)\n",
    "    # print('feature shape:', target.shape)\n",
    "\n",
    "    '''DEFINE THE MODEL'''\n",
    "    \n",
    "    logflk_opt = falkon.FalkonOptions(cg_tolerance=np.sqrt(1e-7), keops_active='no', use_cpu=False, debug = False)\n",
    "    logflk_kernel = falkon.kernels.GaussianKernel(sigma=sigma,  opt=logflk_opt)\n",
    "    logloss = falkon.gsc_losses.WeightedCrossEntropyLoss(logflk_kernel, neg_weight = N_BKG/N_REF)\n",
    "\n",
    "    config = {\n",
    "        \"kernel\"       : logflk_kernel,\n",
    "        \"M\"            : M,\n",
    "        \"penalty_list\" : [l],\n",
    "        \"iter_list\"    : [100_000],\n",
    "        \"options\"      : logflk_opt,\n",
    "        \"seed\"         : None,\n",
    "        \"loss\"         : logloss,\n",
    "    }\n",
    "\n",
    "    logflk = falkon.LogisticFalkon(**config)\n",
    "    \n",
    "    '''TRAIN'''\n",
    "    \n",
    "    logflk.fit(feature, target)\n",
    "    ref_pred, data_pred = logflk.predict(feature_ref), logflk.predict(feature_data)\n",
    "    diff = N_BKG/N_REF *torch.sum(1 - torch.exp(ref_pred))\n",
    "    t = 2 * (diff + torch.sum(data_pred).item()).item()\n",
    "    \n",
    "    return t\n",
    "    "
   ]
  },
  {
   "cell_type": "markdown",
   "metadata": {},
   "source": [
    "### Plot t distribution "
   ]
  },
  {
   "cell_type": "code",
   "execution_count": 105,
   "metadata": {},
   "outputs": [
    {
     "name": "stdout",
     "output_type": "stream",
     "text": [
      "Iteration 0 - penalty 1.000000e-08 - sub-iterations 100000\n"
     ]
    },
    {
     "name": "stdout",
     "output_type": "stream",
     "text": [
      "Iteration 0 - penalty 1.000000e-08 - sub-iterations 100000\n",
      "Iteration 0 - penalty 1.000000e-08 - sub-iterations 100000\n",
      "Iteration 0 - penalty 1.000000e-08 - sub-iterations 100000\n",
      "Iteration 0 - penalty 1.000000e-08 - sub-iterations 100000\n",
      "Iteration 0 - penalty 1.000000e-08 - sub-iterations 100000\n",
      "Iteration 0 - penalty 1.000000e-08 - sub-iterations 100000\n",
      "Iteration 0 - penalty 1.000000e-08 - sub-iterations 100000\n",
      "Iteration 0 - penalty 1.000000e-08 - sub-iterations 100000\n",
      "Iteration 0 - penalty 1.000000e-08 - sub-iterations 100000\n",
      "Iteration 0 - penalty 1.000000e-08 - sub-iterations 100000\n",
      "Iteration 0 - penalty 1.000000e-08 - sub-iterations 100000\n",
      "Iteration 0 - penalty 1.000000e-08 - sub-iterations 100000\n",
      "Iteration 0 - penalty 1.000000e-08 - sub-iterations 100000\n",
      "Iteration 0 - penalty 1.000000e-08 - sub-iterations 100000\n",
      "Iteration 0 - penalty 1.000000e-08 - sub-iterations 100000\n",
      "Iteration 0 - penalty 1.000000e-08 - sub-iterations 100000\n",
      "Iteration 0 - penalty 1.000000e-08 - sub-iterations 100000\n",
      "Iteration 0 - penalty 1.000000e-08 - sub-iterations 100000\n",
      "Iteration 0 - penalty 1.000000e-08 - sub-iterations 100000\n"
     ]
    }
   ],
   "source": [
    "t_list=[]\n",
    "toy=20\n",
    "for _ in range(toy):\n",
    "    t = learn_t(sigma=sigma, M=2000, l=1e-8)\n",
    "    t_list.append(t)"
   ]
  },
  {
   "cell_type": "code",
   "execution_count": 115,
   "metadata": {},
   "outputs": [
    {
     "data": {
      "image/png": "[encoded data removed]",
      "text/plain": [
       "<Figure size 800x600 with 1 Axes>"
      ]
     },
     "metadata": {},
     "output_type": "display_data"
    }
   ],
   "source": [
    "\n",
    "df_fit, loc, scale = chi2.fit(t_list, floc=0, fscale=1)\n",
    "t_ref_bins  = np.arange(int(np.min(t_list))-100, int(np.max(t_list))+200, 60)\n",
    "xgrid_ref   = np.arange(int(np.min(t_list))-100, int(np.max(t_list))+200, 2)\n",
    "\n",
    "ref_chi2 = chi2(df=df_fit)\n",
    "\n",
    "plot_one_t(\n",
    "    t_distribution  = t_list,\n",
    "    t_bins          = t_ref_bins,\n",
    "    chi2            = ref_chi2,\n",
    "    chi2_grid       = xgrid_ref,\n",
    "    show_hist       = True,\n",
    "    show_error      = False,\n",
    "    compute_rate    = False,\n",
    "    err_marker      = \"o\",\n",
    "    err_markersize  = 10,\n",
    "    err_capsize     = 5,\n",
    "    err_elinewidth  = 4,\n",
    "    err_capthick    = 4,\n",
    "    err_color       = \"black\",\n",
    "    figsize         = (8, 6),\n",
    "    fontsize        = 20,\n",
    "    cms             = False,\n",
    "    cms_label       = \"\",\n",
    "    cms_rlabel      = \"\",\n",
    "    hist_ecolor     = (\"#494B69\", 1.0),\n",
    "    hist_fcolor     = (\"#494B69\", 0.1),\n",
    "    chi2_color      = (\"#D8707C\", 0.8),\n",
    "    hist_lw         = 4,\n",
    "    chi2_lw         = 8,\n",
    "    hist_type       = \"stepfilled\",\n",
    "    hist_label      = \"$\\it{t}$ distribution\",\n",
    "    chi2_label      = \"Target $\\chi^2$(dof=%.2f)\"%(df_fit),\n",
    "    xlabel          = r\"$t$\",\n",
    "    ylabel          = \"Density\",\n",
    "    show_plot       = True,\n",
    "    save_plot       = False,\n",
    "    plot_name       = \"t_distribution\",\n",
    "    # plot_path       = PLOT_PATH,\n",
    "    plot_format     = \"png\",\n",
    "    return_fig      = False,\n",
    "    plot_w          = False,\n",
    "    wclip           = None,\n",
    ")"
   ]
  },
  {
   "cell_type": "code",
   "execution_count": null,
   "metadata": {},
   "outputs": [],
   "source": []
  }
 ],
 "metadata": {
  "kernelspec": {
   "display_name": "falkon-env",
   "language": "python",
   "name": "python3"
  },
  "language_info": {
   "codemirror_mode": {
    "name": "ipython",
    "version": 3
   },
   "file_extension": ".py",
   "mimetype": "text/x-python",
   "name": "python",
   "nbconvert_exporter": "python",
   "pygments_lexer": "ipython3",
   "version": "3.9.16"
  }
 },
 "nbformat": 4,
 "nbformat_minor": 2
}
