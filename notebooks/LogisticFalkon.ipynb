{
 "cells": [
  {
   "cell_type": "markdown",
   "metadata": {},
   "source": [
    "# Logistic Falkon model test\n",
    "tutorial for the Logistic model"
   ]
  },
  {
   "cell_type": "code",
   "execution_count": 3,
   "metadata": {},
   "outputs": [],
   "source": [
    "%matplotlib inline\n",
    "import os\n",
    "import numpy as np\n",
    "import time\n",
    "from sklearn import datasets, model_selection\n",
    "import torch\n",
    "import matplotlib.pyplot as plt\n",
    "import csv\n",
    "from datetime import datetime\n",
    "# plt.style.use('ggplot')\n",
    "\n",
    "import falkon\n",
    "\n",
    "from scipy.stats import chi2\n",
    "from plot_utils import plot_one_t\n"
   ]
  },
  {
   "cell_type": "markdown",
   "metadata": {},
   "source": [
    "# 1D try"
   ]
  },
  {
   "cell_type": "code",
   "execution_count": 4,
   "metadata": {},
   "outputs": [],
   "source": [
    "# Statistics                                                                                                                                                   \n",
    "N_REF      = 200000\n",
    "N_BKG      = 2000\n",
    "N_SIG      = 0  \n",
    "SIG_LOC    = 6.4\n",
    "SIG_STD    = 0.16\n",
    "# Samples weights N_D/N_R\n",
    "N_R        = N_REF\n",
    "N_D        = N_BKG\n"
   ]
  },
  {
   "cell_type": "code",
   "execution_count": 5,
   "metadata": {},
   "outputs": [
    {
     "name": "stdout",
     "output_type": "stream",
     "text": [
      "target shape torch.Size([201944, 1])\n"
     ]
    }
   ],
   "source": [
    "# poisson fluctuate the number of events in each sample\n",
    "N_bkg_p = int(torch.distributions.Poisson(rate=N_BKG).sample())\n",
    "N_sig_p = int(torch.distributions.Poisson(rate=N_SIG).sample())\n",
    "\n",
    "# the reference rate will not have nuisance parameters\n",
    "feature_ref_dist = torch.distributions.Exponential(rate=1)\n",
    "\n",
    "# the data rate will have nuisance parameters   \n",
    "feature_bkg_dist = torch.distributions.Exponential(rate=1)\n",
    "feature_sig_dist = torch.distributions.Normal(loc=SIG_LOC, scale=SIG_STD)\n",
    "\n",
    "feature_ref  = feature_ref_dist.sample((N_REF,1))\n",
    "feature_data = torch.cat(\n",
    "    (\n",
    "        feature_bkg_dist.sample((N_bkg_p, 1)),\n",
    "        feature_sig_dist.sample((N_sig_p, 1))\n",
    "    )\n",
    ")\n",
    "\n",
    "feature = torch.cat((feature_ref, feature_data), dim=0)\n",
    "\n",
    "target_ref  = torch.zeros((N_REF, 1))\n",
    "target_data = torch.ones((N_bkg_p + N_sig_p, 1))\n",
    "\n",
    "target = torch.cat((target_ref, target_data), dim=0)\n",
    "print(\"target shape\",target.shape)\n",
    "\n",
    "weights_ref  = torch.ones((N_REF, 1)) * (N_D / N_R)\n",
    "weights_data = torch.ones((N_bkg_p + N_sig_p, 1))\n",
    "\n",
    "weights = torch.cat((weights_ref, weights_data), dim=0)\n",
    "\n",
    "# concatenate the weights to the target\n",
    "# target = torch.cat((target, weights), dim=1)"
   ]
  },
  {
   "cell_type": "code",
   "execution_count": 6,
   "metadata": {},
   "outputs": [],
   "source": [
    "flk_opt = falkon.FalkonOptions(use_cpu=False, keops_active=\"no\")\n",
    "flk_kernel = falkon.kernels.GaussianKernel(1, opt=flk_opt)\n",
    "\n",
    "logflk_opt = falkon.FalkonOptions(cg_tolerance=np.sqrt(1e-7), keops_active='no', use_cpu=False, debug = False)\n",
    "logflk_kernel = falkon.kernels.GaussianKernel(sigma=2.3,  opt=logflk_opt)\n",
    "logloss = falkon.gsc_losses.WeightedCrossEntropyLoss(logflk_kernel, neg_weight = N_D/N_R)\n",
    "\n",
    "penalty_list = [1e-7, 1e-8, 1e-10]\n",
    "iter_list = [10_000, 10_000, 10_000]\n",
    "\n",
    "config = {\n",
    "    \"kernel\"       : logflk_kernel,\n",
    "    \"M\"            : 4000,\n",
    "    \"penalty_list\" : [1e-10],\n",
    "    \"iter_list\"    : [10_000],\n",
    "    \"options\"      : logflk_opt,\n",
    "    \"seed\"         : None,\n",
    "    \"loss\"         : logloss,\n",
    "}\n",
    "\n",
    "logflk = falkon.LogisticFalkon(**config)\n"
   ]
  },
  {
   "cell_type": "code",
   "execution_count": 7,
   "metadata": {},
   "outputs": [
    {
     "name": "stdout",
     "output_type": "stream",
     "text": [
      "Iteration 0 - penalty 1.000000e-10 - sub-iterations 10000\n",
      "7.865814208984375\n"
     ]
    }
   ],
   "source": [
    "logflk.fit(feature, target)\n",
    "ref_pred, data_pred = logflk.predict(feature_ref), logflk.predict(feature_data)\n",
    "diff = N_D/N_R *torch.sum(1 - torch.exp(ref_pred))\n",
    "t = 2 * (diff + torch.sum(data_pred).item()).item()\n",
    "print(t)"
   ]
  },
  {
   "cell_type": "markdown",
   "metadata": {},
   "source": [
    "!! one single training since one single dataset is available"
   ]
  },
  {
   "cell_type": "code",
   "execution_count": 8,
   "metadata": {},
   "outputs": [
    {
     "name": "stdout",
     "output_type": "stream",
     "text": [
      "Iteration 0 - penalty 1.000000e-10 - sub-iterations 10000\n",
      "8.521308898925781\n",
      "CPU times: user 11min 8s, sys: 21.9 s, total: 11min 29s\n",
      "Wall time: 38.4 s\n"
     ]
    }
   ],
   "source": [
    "%%time\n",
    "logflk.fit(feature, target)\n",
    "ref_pred, data_pred = logflk.predict(feature_ref), logflk.predict(feature_data)\n",
    "diff = N_D/N_R *torch.sum(1 - torch.exp(ref_pred))\n",
    "t = 2 * (diff + torch.sum(data_pred).item()).item()\n",
    "print(t)"
   ]
  },
  {
   "cell_type": "markdown",
   "metadata": {},
   "source": [
    "# 1D function"
   ]
  },
  {
   "cell_type": "code",
   "execution_count": 4,
   "metadata": {},
   "outputs": [],
   "source": [
    "def learn_t(sigma, M, l, seed):\n",
    "    \n",
    "    N_REF      = 200_000\n",
    "    N_BKG      = 2_000\n",
    "    N_SIG      = 0\n",
    "    SIG_LOC    = 6.4\n",
    "    SIG_STD    = 0.16\n",
    "    # poisson fluctuate the number of events in each sample\n",
    "    # torch.manual_seed(seed)\n",
    "    N_bkg_p = int(torch.distributions.Poisson(rate=N_BKG).sample())\n",
    "    N_sig_p = int(torch.distributions.Poisson(rate=N_SIG).sample())\n",
    "\n",
    "    # the reference rate will not have nuisance parameters\n",
    "    feature_ref_dist = torch.distributions.Exponential(rate=8)\n",
    "\n",
    "    # the data rate will have nuisance parameters   \n",
    "    feature_bkg_dist = torch.distributions.Exponential(rate=8)\n",
    "    feature_sig_dist = torch.distributions.Normal(loc=SIG_LOC, scale=SIG_STD)\n",
    "\n",
    "    feature_ref  = feature_ref_dist.sample((N_REF,1))\n",
    "    feature_data = torch.cat(\n",
    "        (\n",
    "            feature_bkg_dist.sample((N_bkg_p, 1)),\n",
    "            feature_sig_dist.sample((N_sig_p, 1))\n",
    "        )\n",
    "    )\n",
    "    \n",
    "    # feature_ref  = feature_ref / torch.max(feature_ref)\n",
    "    # feature_data = feature_data / torch.max(feature_data)\n",
    "    feature = torch.cat((feature_ref, feature_data), dim=0)\n",
    "    \n",
    "    target_ref  = torch.zeros((N_REF, 1))\n",
    "    target_data = torch.ones((N_bkg_p + N_sig_p, 1))\n",
    "\n",
    "    target = torch.cat((target_ref, target_data), dim=0)\n",
    "    print(\"target shape\",target.shape)\n",
    "    \n",
    "    logflk_opt = falkon.FalkonOptions(cg_tolerance=np.sqrt(1e-7), keops_active='no', use_cpu=False, debug = False)\n",
    "    logflk_kernel = falkon.kernels.GaussianKernel(sigma=sigma,  opt=logflk_opt)\n",
    "    logloss = falkon.gsc_losses.WeightedCrossEntropyLoss(logflk_kernel, neg_weight = N_BKG/N_REF)\n",
    "\n",
    "    config = {\n",
    "        \"kernel\"       : logflk_kernel,\n",
    "        \"M\"            : M,\n",
    "        \"penalty_list\" : [l],\n",
    "        \"iter_list\"    : [100_000],\n",
    "        \"options\"      : logflk_opt,\n",
    "        \"seed\"         : None,\n",
    "        \"loss\"         : logloss,\n",
    "    }\n",
    "\n",
    "    logflk = falkon.LogisticFalkon(**config)\n",
    "    logflk.fit(feature, target)\n",
    "    ref_pred, data_pred = logflk.predict(feature_ref), logflk.predict(feature_data)\n",
    "    diff = N_BKG/N_REF *torch.sum(1 - torch.exp(ref_pred))\n",
    "    t = 2 * (diff + torch.sum(data_pred).item()).item()\n",
    "    \n",
    "    return t\n",
    "    "
   ]
  },
  {
   "cell_type": "code",
   "execution_count": 5,
   "metadata": {},
   "outputs": [
    {
     "name": "stdout",
     "output_type": "stream",
     "text": [
      "target shape torch.Size([202026, 1])\n",
      "Iteration 0 - penalty 1.000000e-08 - sub-iterations 100000\n",
      "target shape torch.Size([201964, 1])\n",
      "Iteration 0 - penalty 1.000000e-08 - sub-iterations 100000\n",
      "target shape torch.Size([202013, 1])\n",
      "Iteration 0 - penalty 1.000000e-08 - sub-iterations 100000\n",
      "target shape torch.Size([201999, 1])\n",
      "Iteration 0 - penalty 1.000000e-08 - sub-iterations 100000\n",
      "target shape torch.Size([202054, 1])\n",
      "Iteration 0 - penalty 1.000000e-08 - sub-iterations 100000\n",
      "target shape torch.Size([202023, 1])\n",
      "Iteration 0 - penalty 1.000000e-08 - sub-iterations 100000\n",
      "target shape torch.Size([202020, 1])\n",
      "Iteration 0 - penalty 1.000000e-08 - sub-iterations 100000\n"
     ]
    },
    {
     "ename": "KeyboardInterrupt",
     "evalue": "",
     "output_type": "error",
     "traceback": [
      "\u001b[0;31m---------------------------------------------------------------------------\u001b[0m",
      "\u001b[0;31mKeyboardInterrupt\u001b[0m                         Traceback (most recent call last)",
      "Cell \u001b[0;32mIn[5], line 4\u001b[0m\n\u001b[1;32m      2\u001b[0m toy\u001b[38;5;241m=\u001b[39m\u001b[38;5;241m20\u001b[39m\n\u001b[1;32m      3\u001b[0m \u001b[38;5;28;01mfor\u001b[39;00m _ \u001b[38;5;129;01min\u001b[39;00m \u001b[38;5;28mrange\u001b[39m(toy):\n\u001b[0;32m----> 4\u001b[0m     t \u001b[38;5;241m=\u001b[39m \u001b[43mlearn_t\u001b[49m\u001b[43m(\u001b[49m\u001b[43msigma\u001b[49m\u001b[38;5;241;43m=\u001b[39;49m\u001b[38;5;241;43m0.3\u001b[39;49m\u001b[43m,\u001b[49m\u001b[43m \u001b[49m\u001b[43mM\u001b[49m\u001b[38;5;241;43m=\u001b[39;49m\u001b[38;5;241;43m3000\u001b[39;49m\u001b[43m,\u001b[49m\u001b[43m \u001b[49m\u001b[43ml\u001b[49m\u001b[38;5;241;43m=\u001b[39;49m\u001b[38;5;241;43m1e-8\u001b[39;49m\u001b[43m,\u001b[49m\u001b[43m \u001b[49m\u001b[43mseed\u001b[49m\u001b[38;5;241;43m=\u001b[39;49m\u001b[43mtime\u001b[49m\u001b[38;5;241;43m.\u001b[39;49m\u001b[43mtime\u001b[49m\u001b[43m(\u001b[49m\u001b[43m)\u001b[49m\u001b[43m)\u001b[49m\n\u001b[1;32m      5\u001b[0m     t_list\u001b[38;5;241m.\u001b[39mappend(t)\n\u001b[1;32m      6\u001b[0m \u001b[38;5;66;03m# bin = np.arange(0,20,4)\u001b[39;00m\n\u001b[1;32m      7\u001b[0m \u001b[38;5;66;03m# plt.hist(t_list, bin)\u001b[39;00m\n",
      "Cell \u001b[0;32mIn[4], line 53\u001b[0m, in \u001b[0;36mlearn_t\u001b[0;34m(sigma, M, l, seed)\u001b[0m\n\u001b[1;32m     42\u001b[0m config \u001b[38;5;241m=\u001b[39m {\n\u001b[1;32m     43\u001b[0m     \u001b[38;5;124m\"\u001b[39m\u001b[38;5;124mkernel\u001b[39m\u001b[38;5;124m\"\u001b[39m       : logflk_kernel,\n\u001b[1;32m     44\u001b[0m     \u001b[38;5;124m\"\u001b[39m\u001b[38;5;124mM\u001b[39m\u001b[38;5;124m\"\u001b[39m            : M,\n\u001b[0;32m   (...)\u001b[0m\n\u001b[1;32m     49\u001b[0m     \u001b[38;5;124m\"\u001b[39m\u001b[38;5;124mloss\u001b[39m\u001b[38;5;124m\"\u001b[39m         : logloss,\n\u001b[1;32m     50\u001b[0m }\n\u001b[1;32m     52\u001b[0m logflk \u001b[38;5;241m=\u001b[39m falkon\u001b[38;5;241m.\u001b[39mLogisticFalkon(\u001b[38;5;241m*\u001b[39m\u001b[38;5;241m*\u001b[39mconfig)\n\u001b[0;32m---> 53\u001b[0m \u001b[43mlogflk\u001b[49m\u001b[38;5;241;43m.\u001b[39;49m\u001b[43mfit\u001b[49m\u001b[43m(\u001b[49m\u001b[43mfeature\u001b[49m\u001b[43m,\u001b[49m\u001b[43m \u001b[49m\u001b[43mtarget\u001b[49m\u001b[43m)\u001b[49m\n\u001b[1;32m     54\u001b[0m ref_pred, data_pred \u001b[38;5;241m=\u001b[39m logflk\u001b[38;5;241m.\u001b[39mpredict(feature_ref), logflk\u001b[38;5;241m.\u001b[39mpredict(feature_data)\n\u001b[1;32m     55\u001b[0m diff \u001b[38;5;241m=\u001b[39m N_BKG\u001b[38;5;241m/\u001b[39mN_REF \u001b[38;5;241m*\u001b[39mtorch\u001b[38;5;241m.\u001b[39msum(\u001b[38;5;241m1\u001b[39m \u001b[38;5;241m-\u001b[39m torch\u001b[38;5;241m.\u001b[39mexp(ref_pred))\n",
      "File \u001b[0;32m~/miniconda3/envs/falkon-env/lib/python3.9/site-packages/falkon/models/logistic_falkon.py:251\u001b[0m, in \u001b[0;36mLogisticFalkon.fit\u001b[0;34m(self, X, Y, Xts, Yts)\u001b[0m\n\u001b[1;32m    248\u001b[0m         knmp_hess \u001b[38;5;241m=\u001b[39m \u001b[38;5;28mself\u001b[39m\u001b[38;5;241m.\u001b[39mloss\u001b[38;5;241m.\u001b[39mknmp_hess(X, ny_X, Y, inner_mmv_, precond\u001b[38;5;241m.\u001b[39minvT(sol_a), opt\u001b[38;5;241m=\u001b[39m\u001b[38;5;28mself\u001b[39m\u001b[38;5;241m.\u001b[39moptions)\n\u001b[1;32m    249\u001b[0m         \u001b[38;5;28;01mreturn\u001b[39;00m precond\u001b[38;5;241m.\u001b[39minvAt(precond\u001b[38;5;241m.\u001b[39minvTt(knmp_hess)\u001b[38;5;241m.\u001b[39madd_(sol_a\u001b[38;5;241m.\u001b[39mmul_(penalty_)))\n\u001b[0;32m--> 251\u001b[0m     optim_out \u001b[38;5;241m=\u001b[39m \u001b[43moptim\u001b[49m\u001b[38;5;241;43m.\u001b[39;49m\u001b[43msolve\u001b[49m\u001b[43m(\u001b[49m\u001b[43mX0\u001b[49m\u001b[38;5;241;43m=\u001b[39;49m\u001b[38;5;28;43;01mNone\u001b[39;49;00m\u001b[43m,\u001b[49m\u001b[43m \u001b[49m\u001b[43mB\u001b[49m\u001b[38;5;241;43m=\u001b[39;49m\u001b[43mgrad_p\u001b[49m\u001b[43m,\u001b[49m\u001b[43m \u001b[49m\u001b[43mmmv\u001b[49m\u001b[38;5;241;43m=\u001b[39;49m\u001b[43mmmv\u001b[49m\u001b[43m,\u001b[49m\u001b[43m \u001b[49m\u001b[43mmax_iter\u001b[49m\u001b[38;5;241;43m=\u001b[39;49m\u001b[43mmax_iter\u001b[49m\u001b[43m)\u001b[49m\n\u001b[1;32m    252\u001b[0m     beta_it \u001b[38;5;241m-\u001b[39m\u001b[38;5;241m=\u001b[39m precond\u001b[38;5;241m.\u001b[39minvA(optim_out)\n\u001b[1;32m    254\u001b[0m t_elapsed \u001b[38;5;241m+\u001b[39m\u001b[38;5;241m=\u001b[39m time\u001b[38;5;241m.\u001b[39mtime() \u001b[38;5;241m-\u001b[39m t_s\n",
      "File \u001b[0;32m~/miniconda3/envs/falkon-env/lib/python3.9/site-packages/falkon/optim/conjgrad.py:129\u001b[0m, in \u001b[0;36mConjugateGradient.solve\u001b[0;34m(self, X0, B, mmv, max_iter, callback)\u001b[0m\n\u001b[1;32m    127\u001b[0m \u001b[38;5;28;01mwith\u001b[39;00m TicToc(\u001b[38;5;124m\"\u001b[39m\u001b[38;5;124mChol Iter\u001b[39m\u001b[38;5;124m\"\u001b[39m, debug\u001b[38;5;241m=\u001b[39m\u001b[38;5;28;01mFalse\u001b[39;00m):\n\u001b[1;32m    128\u001b[0m     t_start \u001b[38;5;241m=\u001b[39m time\u001b[38;5;241m.\u001b[39mtime()\n\u001b[0;32m--> 129\u001b[0m     AP \u001b[38;5;241m=\u001b[39m \u001b[43mmmv\u001b[49m\u001b[43m(\u001b[49m\u001b[43mP\u001b[49m\u001b[43m)\u001b[49m\n\u001b[1;32m    130\u001b[0m     alpha \u001b[38;5;241m=\u001b[39m Rsold \u001b[38;5;241m/\u001b[39m (torch\u001b[38;5;241m.\u001b[39msum(P \u001b[38;5;241m*\u001b[39m AP, dim\u001b[38;5;241m=\u001b[39m\u001b[38;5;241m0\u001b[39m)\u001b[38;5;241m.\u001b[39madd_(m_eps))\n\u001b[1;32m    131\u001b[0m     \u001b[38;5;66;03m# X += P @ diag(alpha)\u001b[39;00m\n",
      "File \u001b[0;32m~/miniconda3/envs/falkon-env/lib/python3.9/site-packages/falkon/models/logistic_falkon.py:248\u001b[0m, in \u001b[0;36mLogisticFalkon.fit.<locals>.mmv\u001b[0;34m(sol, inner_mmv_, penalty_)\u001b[0m\n\u001b[1;32m    246\u001b[0m \u001b[38;5;28;01mdef\u001b[39;00m \u001b[38;5;21mmmv\u001b[39m(sol, inner_mmv_\u001b[38;5;241m=\u001b[39minner_mmv, penalty_\u001b[38;5;241m=\u001b[39mpenalty):\n\u001b[1;32m    247\u001b[0m     sol_a \u001b[38;5;241m=\u001b[39m precond\u001b[38;5;241m.\u001b[39minvA(sol)\n\u001b[0;32m--> 248\u001b[0m     knmp_hess \u001b[38;5;241m=\u001b[39m \u001b[38;5;28;43mself\u001b[39;49m\u001b[38;5;241;43m.\u001b[39;49m\u001b[43mloss\u001b[49m\u001b[38;5;241;43m.\u001b[39;49m\u001b[43mknmp_hess\u001b[49m\u001b[43m(\u001b[49m\u001b[43mX\u001b[49m\u001b[43m,\u001b[49m\u001b[43m \u001b[49m\u001b[43mny_X\u001b[49m\u001b[43m,\u001b[49m\u001b[43m \u001b[49m\u001b[43mY\u001b[49m\u001b[43m,\u001b[49m\u001b[43m \u001b[49m\u001b[43minner_mmv_\u001b[49m\u001b[43m,\u001b[49m\u001b[43m \u001b[49m\u001b[43mprecond\u001b[49m\u001b[38;5;241;43m.\u001b[39;49m\u001b[43minvT\u001b[49m\u001b[43m(\u001b[49m\u001b[43msol_a\u001b[49m\u001b[43m)\u001b[49m\u001b[43m,\u001b[49m\u001b[43m \u001b[49m\u001b[43mopt\u001b[49m\u001b[38;5;241;43m=\u001b[39;49m\u001b[38;5;28;43mself\u001b[39;49m\u001b[38;5;241;43m.\u001b[39;49m\u001b[43moptions\u001b[49m\u001b[43m)\u001b[49m\n\u001b[1;32m    249\u001b[0m     \u001b[38;5;28;01mreturn\u001b[39;00m precond\u001b[38;5;241m.\u001b[39minvAt(precond\u001b[38;5;241m.\u001b[39minvTt(knmp_hess)\u001b[38;5;241m.\u001b[39madd_(sol_a\u001b[38;5;241m.\u001b[39mmul_(penalty_)))\n",
      "File \u001b[0;32m~/miniconda3/envs/falkon-env/lib/python3.9/site-packages/falkon/gsc_losses.py:202\u001b[0m, in \u001b[0;36mLoss.knmp_hess\u001b[0;34m(self, X, Xc, Y, f, u, opt)\u001b[0m\n\u001b[1;32m    167\u001b[0m \u001b[38;5;250m\u001b[39m\u001b[38;5;124mr\u001b[39m\u001b[38;5;124;03m\"\"\"Compute a kernel-vector product with a rescaling with the second derivative\u001b[39;00m\n\u001b[1;32m    168\u001b[0m \n\u001b[1;32m    169\u001b[0m \u001b[38;5;124;03mGiven kernel function :math:`K`, the loss represented by this class :math:`\\mathcal{l}`,\u001b[39;00m\n\u001b[0;32m   (...)\u001b[0m\n\u001b[1;32m    199\u001b[0m \u001b[38;5;124;03mA tensor of shape (m x t), the output of the computation.\u001b[39;00m\n\u001b[1;32m    200\u001b[0m \u001b[38;5;124;03m\"\"\"\u001b[39;00m\n\u001b[1;32m    201\u001b[0m opt \u001b[38;5;241m=\u001b[39m \u001b[38;5;28mself\u001b[39m\u001b[38;5;241m.\u001b[39m_update_opt(opt)\n\u001b[0;32m--> 202\u001b[0m inner \u001b[38;5;241m=\u001b[39m \u001b[38;5;28;43mself\u001b[39;49m\u001b[38;5;241;43m.\u001b[39;49m\u001b[43mkernel\u001b[49m\u001b[38;5;241;43m.\u001b[39;49m\u001b[43mmmv\u001b[49m\u001b[43m(\u001b[49m\u001b[43mX\u001b[49m\u001b[43m,\u001b[49m\u001b[43m \u001b[49m\u001b[43mXc\u001b[49m\u001b[43m,\u001b[49m\u001b[43m \u001b[49m\u001b[43mu\u001b[49m\u001b[43m,\u001b[49m\u001b[43m \u001b[49m\u001b[43mopt\u001b[49m\u001b[38;5;241;43m=\u001b[39;49m\u001b[43mopt\u001b[49m\u001b[43m)\u001b[49m\n\u001b[1;32m    203\u001b[0m inner\u001b[38;5;241m.\u001b[39mmul_(\u001b[38;5;28mself\u001b[39m\u001b[38;5;241m.\u001b[39mddf(Y, f))\n\u001b[1;32m    204\u001b[0m outer \u001b[38;5;241m=\u001b[39m \u001b[38;5;28mself\u001b[39m\u001b[38;5;241m.\u001b[39mkernel\u001b[38;5;241m.\u001b[39mmmv(Xc, X, inner, opt\u001b[38;5;241m=\u001b[39mopt)\n",
      "File \u001b[0;32m~/miniconda3/envs/falkon-env/lib/python3.9/site-packages/falkon/kernels/kernel.py:287\u001b[0m, in \u001b[0;36mKernel.mmv\u001b[0;34m(self, X1, X2, v, out, opt, kwargs_m1, kwargs_m2)\u001b[0m\n\u001b[1;32m    285\u001b[0m     params \u001b[38;5;241m=\u001b[39m dataclasses\u001b[38;5;241m.\u001b[39mreplace(\u001b[38;5;28mself\u001b[39m\u001b[38;5;241m.\u001b[39mparams, \u001b[38;5;241m*\u001b[39m\u001b[38;5;241m*\u001b[39mdataclasses\u001b[38;5;241m.\u001b[39masdict(opt))\n\u001b[1;32m    286\u001b[0m mmv_impl \u001b[38;5;241m=\u001b[39m \u001b[38;5;28mself\u001b[39m\u001b[38;5;241m.\u001b[39m_decide_mmv_impl(X1, X2, v, params)\n\u001b[0;32m--> 287\u001b[0m \u001b[38;5;28;01mreturn\u001b[39;00m \u001b[43mmmv_impl\u001b[49m\u001b[43m(\u001b[49m\n\u001b[1;32m    288\u001b[0m \u001b[43m    \u001b[49m\u001b[43mX1\u001b[49m\u001b[38;5;241;43m=\u001b[39;49m\u001b[43mX1\u001b[49m\u001b[43m,\u001b[49m\n\u001b[1;32m    289\u001b[0m \u001b[43m    \u001b[49m\u001b[43mX2\u001b[49m\u001b[38;5;241;43m=\u001b[39;49m\u001b[43mX2\u001b[49m\u001b[43m,\u001b[49m\n\u001b[1;32m    290\u001b[0m \u001b[43m    \u001b[49m\u001b[43mv\u001b[49m\u001b[38;5;241;43m=\u001b[39;49m\u001b[43mv\u001b[49m\u001b[43m,\u001b[49m\n\u001b[1;32m    291\u001b[0m \u001b[43m    \u001b[49m\u001b[43mkernel\u001b[49m\u001b[38;5;241;43m=\u001b[39;49m\u001b[38;5;28;43mself\u001b[39;49m\u001b[43m,\u001b[49m\n\u001b[1;32m    292\u001b[0m \u001b[43m    \u001b[49m\u001b[43mout\u001b[49m\u001b[38;5;241;43m=\u001b[39;49m\u001b[43mout\u001b[49m\u001b[43m,\u001b[49m\n\u001b[1;32m    293\u001b[0m \u001b[43m    \u001b[49m\u001b[43mopt\u001b[49m\u001b[38;5;241;43m=\u001b[39;49m\u001b[43mparams\u001b[49m\u001b[43m,\u001b[49m\n\u001b[1;32m    294\u001b[0m \u001b[43m    \u001b[49m\u001b[43mkwargs_m1\u001b[49m\u001b[38;5;241;43m=\u001b[39;49m\u001b[43mkwargs_m1\u001b[49m\u001b[43m,\u001b[49m\n\u001b[1;32m    295\u001b[0m \u001b[43m    \u001b[49m\u001b[43mkwargs_m2\u001b[49m\u001b[38;5;241;43m=\u001b[39;49m\u001b[43mkwargs_m2\u001b[49m\u001b[43m,\u001b[49m\n\u001b[1;32m    296\u001b[0m \u001b[43m\u001b[49m\u001b[43m)\u001b[49m\n",
      "File \u001b[0;32m~/miniconda3/envs/falkon-env/lib/python3.9/site-packages/falkon/mmv_ops/fmmv.py:971\u001b[0m, in \u001b[0;36mfmmv\u001b[0;34m(X1, X2, v, kernel, out, opt, kwargs_m1, kwargs_m2)\u001b[0m\n\u001b[1;32m    960\u001b[0m \u001b[38;5;28;01mdef\u001b[39;00m \u001b[38;5;21mfmmv\u001b[39m(\n\u001b[1;32m    961\u001b[0m     X1: Union[torch\u001b[38;5;241m.\u001b[39mTensor, SparseTensor],\n\u001b[1;32m    962\u001b[0m     X2: Union[torch\u001b[38;5;241m.\u001b[39mTensor, SparseTensor],\n\u001b[0;32m   (...)\u001b[0m\n\u001b[1;32m    968\u001b[0m     kwargs_m2: Optional[Dict[\u001b[38;5;28mstr\u001b[39m, torch\u001b[38;5;241m.\u001b[39mTensor]] \u001b[38;5;241m=\u001b[39m \u001b[38;5;28;01mNone\u001b[39;00m,\n\u001b[1;32m    969\u001b[0m ):\n\u001b[1;32m    970\u001b[0m     \u001b[38;5;28;01mif\u001b[39;00m \u001b[38;5;28misinstance\u001b[39m(kernel, falkon\u001b[38;5;241m.\u001b[39mkernels\u001b[38;5;241m.\u001b[39mDiffKernel):\n\u001b[0;32m--> 971\u001b[0m         \u001b[38;5;28;01mreturn\u001b[39;00m \u001b[43mKernelMmvFnFull\u001b[49m\u001b[38;5;241;43m.\u001b[39;49m\u001b[43mapply\u001b[49m\u001b[43m(\u001b[49m\u001b[43mkernel\u001b[49m\u001b[43m,\u001b[49m\u001b[43m \u001b[49m\u001b[43mopt\u001b[49m\u001b[43m,\u001b[49m\u001b[43m \u001b[49m\u001b[43mkwargs_m1\u001b[49m\u001b[43m,\u001b[49m\u001b[43m \u001b[49m\u001b[43mkwargs_m2\u001b[49m\u001b[43m,\u001b[49m\u001b[43m \u001b[49m\u001b[43mout\u001b[49m\u001b[43m,\u001b[49m\u001b[43m \u001b[49m\u001b[43mX1\u001b[49m\u001b[43m,\u001b[49m\u001b[43m \u001b[49m\u001b[43mX2\u001b[49m\u001b[43m,\u001b[49m\u001b[43m \u001b[49m\u001b[43mv\u001b[49m\u001b[43m,\u001b[49m\u001b[43m \u001b[49m\u001b[38;5;241;43m*\u001b[39;49m\u001b[43mkernel\u001b[49m\u001b[38;5;241;43m.\u001b[39;49m\u001b[43mdiff_params\u001b[49m\u001b[38;5;241;43m.\u001b[39;49m\u001b[43mvalues\u001b[49m\u001b[43m(\u001b[49m\u001b[43m)\u001b[49m\u001b[43m)\u001b[49m\n\u001b[1;32m    972\u001b[0m     \u001b[38;5;28;01melse\u001b[39;00m:\n\u001b[1;32m    973\u001b[0m         \u001b[38;5;28;01mreturn\u001b[39;00m KernelMmvFnFull\u001b[38;5;241m.\u001b[39mapply(kernel, opt, out, X1, X2, v, kwargs_m1, kwargs_m2)\n",
      "File \u001b[0;32m~/miniconda3/envs/falkon-env/lib/python3.9/site-packages/falkon/mmv_ops/fmmv.py:920\u001b[0m, in \u001b[0;36mKernelMmvFnFull.forward\u001b[0;34m(ctx, kernel, opt, kwargs_m1, kwargs_m2, out, X1, X2, v, *kernel_params)\u001b[0m\n\u001b[1;32m    918\u001b[0m     KernelMmvFnFull\u001b[38;5;241m.\u001b[39mrun_gpu_gpu(X1, X2, v, out, kernel, opt, \u001b[38;5;28;01mFalse\u001b[39;00m, kwargs_m1, kwargs_m2)\n\u001b[1;32m    919\u001b[0m \u001b[38;5;28;01melif\u001b[39;00m comp_dev_type \u001b[38;5;241m==\u001b[39m \u001b[38;5;124m\"\u001b[39m\u001b[38;5;124mcuda\u001b[39m\u001b[38;5;124m\"\u001b[39m:\n\u001b[0;32m--> 920\u001b[0m     \u001b[43mKernelMmvFnFull\u001b[49m\u001b[38;5;241;43m.\u001b[39;49m\u001b[43mrun_cpu_gpu\u001b[49m\u001b[43m(\u001b[49m\u001b[43mX1\u001b[49m\u001b[43m,\u001b[49m\u001b[43m \u001b[49m\u001b[43mX2\u001b[49m\u001b[43m,\u001b[49m\u001b[43m \u001b[49m\u001b[43mv\u001b[49m\u001b[43m,\u001b[49m\u001b[43m \u001b[49m\u001b[43mout\u001b[49m\u001b[43m,\u001b[49m\u001b[43m \u001b[49m\u001b[43mkernel\u001b[49m\u001b[43m,\u001b[49m\u001b[43m \u001b[49m\u001b[43mopt\u001b[49m\u001b[43m,\u001b[49m\u001b[43m \u001b[49m\u001b[38;5;28;43;01mFalse\u001b[39;49;00m\u001b[43m,\u001b[49m\u001b[43m \u001b[49m\u001b[43mkwargs_m1\u001b[49m\u001b[43m,\u001b[49m\u001b[43m \u001b[49m\u001b[43mkwargs_m2\u001b[49m\u001b[43m)\u001b[49m\n\u001b[1;32m    921\u001b[0m \u001b[38;5;28;01melse\u001b[39;00m:\n\u001b[1;32m    922\u001b[0m     \u001b[38;5;28;01mraise\u001b[39;00m \u001b[38;5;167;01mRuntimeError\u001b[39;00m(\u001b[38;5;124m\"\u001b[39m\u001b[38;5;124mRequested CPU computations with CUDA data. This should not happen.\u001b[39m\u001b[38;5;124m\"\u001b[39m)\n",
      "File \u001b[0;32m~/miniconda3/envs/falkon-env/lib/python3.9/site-packages/falkon/mmv_ops/fmmv.py:840\u001b[0m, in \u001b[0;36mKernelMmvFnFull.run_cpu_gpu\u001b[0;34m(X1, X2, v, out, kernel, options, diff, kwargs_m1, kwargs_m2)\u001b[0m\n\u001b[1;32m    823\u001b[0m         c_kwargs_m1 \u001b[38;5;241m=\u001b[39m {k: v[block_sizes[i] : block_sizes[i] \u001b[38;5;241m+\u001b[39m bwidth] \u001b[38;5;28;01mfor\u001b[39;00m k, v \u001b[38;5;129;01min\u001b[39;00m kwargs_m1\u001b[38;5;241m.\u001b[39mitems()}\n\u001b[1;32m    824\u001b[0m     args\u001b[38;5;241m.\u001b[39mappend(\n\u001b[1;32m    825\u001b[0m         (\n\u001b[1;32m    826\u001b[0m             ArgsFmmv(\n\u001b[0;32m   (...)\u001b[0m\n\u001b[1;32m    838\u001b[0m         )\n\u001b[1;32m    839\u001b[0m     )\n\u001b[0;32m--> 840\u001b[0m outputs \u001b[38;5;241m=\u001b[39m \u001b[43m_start_wait_processes\u001b[49m\u001b[43m(\u001b[49m\u001b[43mmmv_run_starter\u001b[49m\u001b[43m,\u001b[49m\u001b[43m \u001b[49m\u001b[43margs\u001b[49m\u001b[43m)\u001b[49m\n\u001b[1;32m    841\u001b[0m \u001b[38;5;28;01mif\u001b[39;00m \u001b[38;5;129;01mnot\u001b[39;00m diff:\n\u001b[1;32m    842\u001b[0m     \u001b[38;5;28;01mreturn\u001b[39;00m outputs\n",
      "File \u001b[0;32m~/miniconda3/envs/falkon-env/lib/python3.9/site-packages/falkon/mmv_ops/utils.py:78\u001b[0m, in \u001b[0;36m_start_wait_processes\u001b[0;34m(target, args)\u001b[0m\n\u001b[1;32m     76\u001b[0m \u001b[38;5;28;01mfor\u001b[39;00m p \u001b[38;5;129;01min\u001b[39;00m processes:\n\u001b[1;32m     77\u001b[0m     p\u001b[38;5;241m.\u001b[39mstart()\n\u001b[0;32m---> 78\u001b[0m outputs\u001b[38;5;241m.\u001b[39mextend([p\u001b[38;5;241m.\u001b[39mjoin() \u001b[38;5;28;01mfor\u001b[39;00m p \u001b[38;5;129;01min\u001b[39;00m processes])\n\u001b[1;32m     79\u001b[0m \u001b[38;5;28;01mreturn\u001b[39;00m outputs\n",
      "File \u001b[0;32m~/miniconda3/envs/falkon-env/lib/python3.9/site-packages/falkon/mmv_ops/utils.py:78\u001b[0m, in \u001b[0;36m<listcomp>\u001b[0;34m(.0)\u001b[0m\n\u001b[1;32m     76\u001b[0m \u001b[38;5;28;01mfor\u001b[39;00m p \u001b[38;5;129;01min\u001b[39;00m processes:\n\u001b[1;32m     77\u001b[0m     p\u001b[38;5;241m.\u001b[39mstart()\n\u001b[0;32m---> 78\u001b[0m outputs\u001b[38;5;241m.\u001b[39mextend([\u001b[43mp\u001b[49m\u001b[38;5;241;43m.\u001b[39;49m\u001b[43mjoin\u001b[49m\u001b[43m(\u001b[49m\u001b[43m)\u001b[49m \u001b[38;5;28;01mfor\u001b[39;00m p \u001b[38;5;129;01min\u001b[39;00m processes])\n\u001b[1;32m     79\u001b[0m \u001b[38;5;28;01mreturn\u001b[39;00m outputs\n",
      "File \u001b[0;32m~/miniconda3/envs/falkon-env/lib/python3.9/site-packages/falkon/utils/threading.py:21\u001b[0m, in \u001b[0;36mPropagatingThread.join\u001b[0;34m(self, timeout)\u001b[0m\n\u001b[1;32m     20\u001b[0m \u001b[38;5;28;01mdef\u001b[39;00m \u001b[38;5;21mjoin\u001b[39m(\u001b[38;5;28mself\u001b[39m, timeout\u001b[38;5;241m=\u001b[39m\u001b[38;5;28;01mNone\u001b[39;00m):\n\u001b[0;32m---> 21\u001b[0m     \u001b[38;5;28;43msuper\u001b[39;49m\u001b[43m(\u001b[49m\u001b[43m)\u001b[49m\u001b[38;5;241;43m.\u001b[39;49m\u001b[43mjoin\u001b[49m\u001b[43m(\u001b[49m\u001b[43mtimeout\u001b[49m\u001b[38;5;241;43m=\u001b[39;49m\u001b[43mtimeout\u001b[49m\u001b[43m)\u001b[49m\n\u001b[1;32m     22\u001b[0m     \u001b[38;5;28;01mif\u001b[39;00m \u001b[38;5;28mself\u001b[39m\u001b[38;5;241m.\u001b[39mexc:\n\u001b[1;32m     23\u001b[0m         \u001b[38;5;28;01mraise\u001b[39;00m \u001b[38;5;167;01mRuntimeError\u001b[39;00m(\u001b[38;5;124m\"\u001b[39m\u001b[38;5;124mException in thread \u001b[39m\u001b[38;5;132;01m%s\u001b[39;00m\u001b[38;5;124m\"\u001b[39m \u001b[38;5;241m%\u001b[39m \u001b[38;5;28mself\u001b[39m\u001b[38;5;241m.\u001b[39mname) \u001b[38;5;28;01mfrom\u001b[39;00m \u001b[38;5;21;01mself\u001b[39;00m\u001b[38;5;21;01m.\u001b[39;00m\u001b[38;5;21;01mexc\u001b[39;00m\n",
      "File \u001b[0;32m~/miniconda3/envs/falkon-env/lib/python3.9/threading.py:1060\u001b[0m, in \u001b[0;36mThread.join\u001b[0;34m(self, timeout)\u001b[0m\n\u001b[1;32m   1057\u001b[0m     \u001b[38;5;28;01mraise\u001b[39;00m \u001b[38;5;167;01mRuntimeError\u001b[39;00m(\u001b[38;5;124m\"\u001b[39m\u001b[38;5;124mcannot join current thread\u001b[39m\u001b[38;5;124m\"\u001b[39m)\n\u001b[1;32m   1059\u001b[0m \u001b[38;5;28;01mif\u001b[39;00m timeout \u001b[38;5;129;01mis\u001b[39;00m \u001b[38;5;28;01mNone\u001b[39;00m:\n\u001b[0;32m-> 1060\u001b[0m     \u001b[38;5;28;43mself\u001b[39;49m\u001b[38;5;241;43m.\u001b[39;49m\u001b[43m_wait_for_tstate_lock\u001b[49m\u001b[43m(\u001b[49m\u001b[43m)\u001b[49m\n\u001b[1;32m   1061\u001b[0m \u001b[38;5;28;01melse\u001b[39;00m:\n\u001b[1;32m   1062\u001b[0m     \u001b[38;5;66;03m# the behavior of a negative timeout isn't documented, but\u001b[39;00m\n\u001b[1;32m   1063\u001b[0m     \u001b[38;5;66;03m# historically .join(timeout=x) for x<0 has acted as if timeout=0\u001b[39;00m\n\u001b[1;32m   1064\u001b[0m     \u001b[38;5;28mself\u001b[39m\u001b[38;5;241m.\u001b[39m_wait_for_tstate_lock(timeout\u001b[38;5;241m=\u001b[39m\u001b[38;5;28mmax\u001b[39m(timeout, \u001b[38;5;241m0\u001b[39m))\n",
      "File \u001b[0;32m~/miniconda3/envs/falkon-env/lib/python3.9/threading.py:1080\u001b[0m, in \u001b[0;36mThread._wait_for_tstate_lock\u001b[0;34m(self, block, timeout)\u001b[0m\n\u001b[1;32m   1077\u001b[0m     \u001b[38;5;28;01mreturn\u001b[39;00m\n\u001b[1;32m   1079\u001b[0m \u001b[38;5;28;01mtry\u001b[39;00m:\n\u001b[0;32m-> 1080\u001b[0m     \u001b[38;5;28;01mif\u001b[39;00m \u001b[43mlock\u001b[49m\u001b[38;5;241;43m.\u001b[39;49m\u001b[43macquire\u001b[49m\u001b[43m(\u001b[49m\u001b[43mblock\u001b[49m\u001b[43m,\u001b[49m\u001b[43m \u001b[49m\u001b[43mtimeout\u001b[49m\u001b[43m)\u001b[49m:\n\u001b[1;32m   1081\u001b[0m         lock\u001b[38;5;241m.\u001b[39mrelease()\n\u001b[1;32m   1082\u001b[0m         \u001b[38;5;28mself\u001b[39m\u001b[38;5;241m.\u001b[39m_stop()\n",
      "\u001b[0;31mKeyboardInterrupt\u001b[0m: "
     ]
    }
   ],
   "source": [
    "t_list=[]\n",
    "toy=20\n",
    "for _ in range(toy):\n",
    "    t = learn_t(sigma=0.3, M=3000, l=1e-8, seed=time.time())\n",
    "    t_list.append(t)\n",
    "# bin = np.arange(0,20,4)\n",
    "# plt.hist(t_list, bin)\n",
    "\n",
    "df_fit, loc, scale = chi2.fit(t_list, floc=0, fscale=1)\n",
    "print(df_fit)\n",
    "\n",
    "t_ref_bins  = np.arange(0, 40, 4)\n",
    "xgrid_ref   = np.arange(0, 40, 0.5)\n",
    "\n",
    "ref_chi2 = chi2(df=df_fit)\n",
    "\n",
    "plot_one_t(\n",
    "    t_distribution  = t_list,\n",
    "    t_bins          = t_ref_bins,\n",
    "    chi2            = ref_chi2,\n",
    "    chi2_grid       = xgrid_ref,\n",
    "    show_hist       = True,\n",
    "    show_error      = False,\n",
    "    compute_rate    = False,\n",
    "    err_marker      = \"o\",\n",
    "    err_markersize  = 10,\n",
    "    err_capsize     = 5,\n",
    "    err_elinewidth  = 4,\n",
    "    err_capthick    = 4,\n",
    "    err_color       = \"black\",\n",
    "    figsize         = (10, 8),\n",
    "    fontsize        = 30,\n",
    "    cms             = False,\n",
    "    cms_label       = \"\",\n",
    "    cms_rlabel      = \"\",\n",
    "    hist_ecolor     = (\"#494B69\", 1.0),\n",
    "    hist_fcolor     = (\"#494B69\", 0.1),\n",
    "    chi2_color      = (\"#D8707C\", 0.8),\n",
    "    hist_lw         = 4,\n",
    "    chi2_lw         = 8,\n",
    "    hist_type       = \"stepfilled\",\n",
    "    hist_label      = \"$\\it{t}$ distribution\",\n",
    "    chi2_label      = \"Target $\\chi^2$(dof=%.2f)\"%(df_fit),\n",
    "    xlabel          = r\"$t$\",\n",
    "    ylabel          = \"Density\",\n",
    "    show_plot       = True,\n",
    "    save_plot       = False,\n",
    "    plot_name       = \"t_distribution\",\n",
    "    # plot_path       = PLOT_PATH,\n",
    "    plot_format     = \"png\",\n",
    "    return_fig      = False,\n",
    "    plot_w          = False,\n",
    "    wclip           = None,\n",
    ")\n"
   ]
  },
  {
   "cell_type": "code",
   "execution_count": 9,
   "metadata": {},
   "outputs": [
    {
     "name": "stdout",
     "output_type": "stream",
     "text": [
      "target shape torch.Size([202028, 1])\n",
      "Iteration 0 - penalty 1.000000e-09 - sub-iterations 100000\n",
      "target shape torch.Size([202067, 1])\n",
      "Iteration 0 - penalty 1.000000e-09 - sub-iterations 100000\n",
      "target shape torch.Size([202015, 1])\n",
      "Iteration 0 - penalty 1.000000e-09 - sub-iterations 100000\n",
      "target shape torch.Size([202028, 1])\n",
      "Iteration 0 - penalty 1.000000e-09 - sub-iterations 100000\n",
      "target shape torch.Size([202030, 1])\n",
      "Iteration 0 - penalty 1.000000e-09 - sub-iterations 100000\n",
      "target shape torch.Size([202041, 1])\n",
      "Iteration 0 - penalty 1.000000e-09 - sub-iterations 100000\n"
     ]
    }
   ],
   "source": [
    "current_date  = str(datetime.now().year)        + \"_\"\n",
    "current_date += str(datetime.now().month)       + \"_\"\n",
    "current_date += str(datetime.now().day)         + \"_\"\n",
    "current_date += str(datetime.now().hour)        + \"-\"\n",
    "current_date += str(datetime.now().minute)      + \"_\"\n",
    "\n",
    "FILE_PATH = \"/home/ubuntu/NPLM-Falkon/output/1D/\"+current_date\n",
    "os.makedirs(FILE_PATH, exist_ok=True)\n",
    "\n",
    "toys   = 100\n",
    "M_list = [500, 1000, 2000, 3000, 5000, 6000]\n",
    "l_list = [1e-9, 1e-10]\n",
    "sigma  = 0.3\n",
    "t_list = []\n",
    "\n",
    "\n",
    "def hyperparameter_train(toys, M_list, l_list, sigma, FILE_PATH):\n",
    "    \n",
    "    \"\"\"\n",
    "    return list of t values and save the results in csv files\n",
    "    \"\"\"\n",
    "\n",
    "    for l in l_list:\n",
    "        t_M_list = []\n",
    "        for M in M_list:\n",
    "            t_list_tmp = []\n",
    "            for _ in range(toys):\n",
    "                train_start = time.time()\n",
    "                t = learn_t(sigma=sigma, M=M, l=l, seed=time.time())\n",
    "                train_stop = time.time()\n",
    "                t_list_tmp.append(t)\n",
    "                \n",
    "                FILE_NAME = \"/ttest_time_\"+str(l) +\"_\"+ str(M) + \".csv\"\n",
    "                \n",
    "                with open(FILE_PATH + FILE_NAME, \"a\", newline=\"\\n\") as f:\n",
    "                    writer = csv.writer(f, dialect=\"excel\" ,delimiter=\"\\t\")\n",
    "                    writer.writerow([t, (train_stop-train_start)])\n",
    "                                \n",
    "\n",
    "            t_M_list.append(t_list_tmp)\n",
    "            del t_list_tmp\n",
    "        t_list.append(t_M_list)\n",
    "        del t_M_list\n",
    "    \n",
    "    return t_list\n",
    "    \n",
    "\n",
    "t_list = hyperparameter_train(30, M_list, l_list, sigma, FILE_PATH)\n",
    "    "
   ]
  },
  {
   "cell_type": "markdown",
   "metadata": {},
   "source": [
    "### read training results"
   ]
  },
  {
   "cell_type": "code",
   "execution_count": 112,
   "metadata": {},
   "outputs": [],
   "source": [
    "path = \"/home/ubuntu/NPLM-Falkon/output/1D/\"+current_date\n",
    "def read_data(l, out, path = path):\n",
    "    t = []\n",
    "    for M in [500, 1000, 2000, 3000, 5000, 6000]:\n",
    "        if out != 'time':\n",
    "            with open(path + \"/ttest_time_\"+str(l)+\"_\"+str(M)+\".csv\") as f:\n",
    "            # for row in f:\n",
    "                t_list_tmp = np.array([float(row.split()[0]) for row in f])\n",
    "                if out == 'mean':\n",
    "                    t.append(np.mean(t_list_tmp))\n",
    "                if out == 'chi':\n",
    "                    df_fit, _, _ = chi2.fit(t_list_tmp, floc=0, fscale=1)\n",
    "                    t.append(df_fit)\n",
    "                if out == 'median':\n",
    "                    t.append(np.median(t_list_tmp))\n",
    "        if out == 'time':\n",
    "            with open(path + \"/ttest_time_\"+str(l)+\"_\"+str(M)+\".csv\") as f:\n",
    "                timing = np.array([float(row.split()[1]) for row in f])\n",
    "                t.append(np.mean(timing))\n",
    "                        \n",
    "    return t"
   ]
  },
  {
   "cell_type": "code",
   "execution_count": 113,
   "metadata": {},
   "outputs": [],
   "source": [
    "t_mean6 = read_data(1e-6, 'mean', path=path); t_chi6  = read_data(1e-6, 'chi', path=path) ; t_median6 = read_data(1e-6, 'median', path=path)\n",
    "t_mean7 = read_data(1e-7, 'mean', path=path); t_chi7  = read_data(1e-7, 'chi', path=path) ; t_median7 = read_data(1e-7, 'median', path=path)\n",
    "t_mean8 = read_data(1e-8, 'mean', path=path); t_chi8  = read_data(1e-8, 'chi', path=path) ; t_median8 = read_data(1e-8, 'median', path=path)\n",
    "# t_mean9 = read_data(1e-9, 'mean', path=path); t_chi9  = read_data(1e-9, 'chi', path=path) ; t_median9 = read_data(1e-9, 'median', path=path)\n"
   ]
  },
  {
   "cell_type": "code",
   "execution_count": 126,
   "metadata": {},
   "outputs": [
    {
     "data": {
      "image/png": "[encoded data removed]",
      "text/plain": [
       "<Figure size 800x800 with 1 Axes>"
      ]
     },
     "metadata": {},
     "output_type": "display_data"
    }
   ],
   "source": [
    "path = \"/home/ubuntu/NPLM-Falkon/output/1D/2024_2_20_8-51_\"\n",
    "fig, ax = plt.subplots(figsize=(8,8))\n",
    "ax.plot(M_list,read_data(1e-6, 'mean', path=path), marker='o', markersize=6 , label=\"$\\lambda$=1e-6\")\n",
    "ax.plot(M_list,read_data(1e-7, 'mean', path=path), marker='o', markersize=6 , label=\"$\\lambda$=1e-7\")\n",
    "ax.plot(M_list,read_data(1e-8, 'mean', path=path), marker='o', markersize=6 , label=\"$\\lambda$=1e-8\")\n",
    "\n",
    "\n",
    "ax.set_xlabel('M', fontsize=12)\n",
    "ax.set_ylabel('mean t', fontsize=12)\n",
    "ax.legend(fontsize =12)\n",
    "\n",
    "plt.savefig(\"plot/meant_vs_M.png\")\n"
   ]
  },
  {
   "cell_type": "code",
   "execution_count": null,
   "metadata": {},
   "outputs": [],
   "source": []
  },
  {
   "cell_type": "code",
   "execution_count": null,
   "metadata": {},
   "outputs": [],
   "source": []
  }
 ],
 "metadata": {
  "kernelspec": {
   "display_name": "falkon-env",
   "language": "python",
   "name": "python3"
  },
  "language_info": {
   "codemirror_mode": {
    "name": "ipython",
    "version": 3
   },
   "file_extension": ".py",
   "mimetype": "text/x-python",
   "name": "python",
   "nbconvert_exporter": "python",
   "pygments_lexer": "ipython3",
   "version": "3.9.16"
  }
 },
 "nbformat": 4,
 "nbformat_minor": 2
}
